{
 "cells": [
  {
   "cell_type": "code",
   "execution_count": 1,
   "metadata": {},
   "outputs": [],
   "source": [
    "from modules.PostgresDBHandler import PostgresDBHandler\n",
    "import os\n",
    "from joblib import Parallel, delayed\n",
    "import librosa\n",
    "from collections import defaultdict"
   ]
  },
  {
   "cell_type": "code",
   "execution_count": 2,
   "metadata": {},
   "outputs": [],
   "source": [
    "def process_file(file_path, db_params):\n",
    "    try:\n",
    "        db = PostgresDBHandler(**db_params)\n",
    "        db.connect()\n",
    "\n",
    "        folder_name = os.path.basename(os.path.dirname(os.path.dirname(file_path)))\n",
    "        instrument_type = folder_name.split(\"_\")[0]\n",
    "        microphone_type = os.path.basename(os.path.dirname(file_path))\n",
    "        audio, sr = librosa.load(file_path, sr=None)\n",
    "\n",
    "        # Check if the instrument exists in the database\n",
    "        instrument_id = db.get_instrument_id(instrument_type)\n",
    "\n",
    "        # Insert the audio file data into the AudioFiles table\n",
    "        db.insert_audio_file(file_path, sr, len(audio), instrument_id)\n",
    "\n",
    "        db.close()\n",
    "\n",
    "        return {\n",
    "            \"instrument_type\": instrument_type,\n",
    "            \"microphone_type\": microphone_type,\n",
    "            \"original_file\": file_path,\n",
    "            \"sample_rate\": sr,\n",
    "        }\n",
    "    except Exception as e:\n",
    "        print(f\"Error processing {file_path}: {e}\")\n",
    "        return None"
   ]
  },
  {
   "cell_type": "code",
   "execution_count": 3,
   "metadata": {},
   "outputs": [],
   "source": [
    "base_dir = \"./good-sounds\"\n",
    "dbParams = {\n",
    "    \"dbname\": \"mydatabase\",\n",
    "    \"user\": \"myuser\",\n",
    "    \"password\": \"mypassword\",\n",
    "    \"host\": \"postgres_server\",\n",
    "    \"port\": \"5432\",\n",
    "}\n",
    "MAX_FILES_PER_INSTRUMENT = 300\n",
    "n_jobs = -1"
   ]
  },
  {
   "cell_type": "code",
   "execution_count": 4,
   "metadata": {},
   "outputs": [],
   "source": [
    "classes = os.listdir(os.path.join(base_dir, \"sound_files\"))\n",
    "instrument_types = {className.split(\"_\")[0] for className in classes}"
   ]
  },
  {
   "cell_type": "code",
   "execution_count": 5,
   "metadata": {},
   "outputs": [
    {
     "data": {
      "text/plain": [
       "{'bass',\n",
       " 'cello',\n",
       " 'clarinet',\n",
       " 'flute',\n",
       " 'oboe',\n",
       " 'piccolo',\n",
       " 'sax',\n",
       " 'trumpet',\n",
       " 'violin'}"
      ]
     },
     "execution_count": 5,
     "metadata": {},
     "output_type": "execute_result"
    }
   ],
   "source": [
    "instrument_types"
   ]
  },
  {
   "cell_type": "code",
   "execution_count": 6,
   "metadata": {},
   "outputs": [],
   "source": [
    "db = PostgresDBHandler(**dbParams)\n",
    "db.connect()\n",
    "for instrument in instrument_types:\n",
    "    if db.get_instrument_id(instrument) is None:\n",
    "        db.insert_instrument(instrument, 0)\n",
    "db.close()"
   ]
  },
  {
   "cell_type": "code",
   "execution_count": 7,
   "metadata": {},
   "outputs": [],
   "source": [
    "db = PostgresDBHandler(**dbParams) \n",
    "db.connect()\n",
    "audio_files_by_class = defaultdict(list)\n",
    "\n",
    "for root, dirs, files in os.walk(base_dir):\n",
    "    for file in files:\n",
    "        if file.endswith(\".wav\"):\n",
    "            file_path = os.path.join(root, file)\n",
    "            # Extract instrument type from the path\n",
    "            parts = file_path.split(os.sep)\n",
    "            try:\n",
    "                class_name = parts[parts.index(\"sound_files\") + 1]\n",
    "                instrument_type = class_name.split(\"_\")[0]\n",
    "            except (ValueError, IndexError):\n",
    "                continue  # skip if path structure is unexpected\n",
    "\n",
    "            if len(audio_files_by_class[instrument_type]) < MAX_FILES_PER_INSTRUMENT:\n",
    "                if not db.check_audio_file_exists(file_path):\n",
    "                    audio_files_by_class[instrument_type].append(file_path)\n",
    "db.close()\n",
    "\n",
    "# Flatten the list\n",
    "audio_files = [f for files in audio_files_by_class.values() for f in files]"
   ]
  },
  {
   "cell_type": "code",
   "execution_count": 8,
   "metadata": {},
   "outputs": [
    {
     "name": "stdout",
     "output_type": "stream",
     "text": [
      "Processing 2559 audio files\n"
     ]
    }
   ],
   "source": [
    "print(f\"Processing {len(audio_files)} audio files\")"
   ]
  },
  {
   "cell_type": "code",
   "execution_count": null,
   "metadata": {
    "scrolled": true
   },
   "outputs": [],
   "source": [
    "Parallel(n_jobs=n_jobs)(\n",
    "    delayed(process_file)(file_path, dbParams)\n",
    "    for file_path in audio_files\n",
    ")"
   ]
  }
 ],
 "metadata": {
  "kernelspec": {
   "display_name": "Python 3 (ipykernel)",
   "language": "python",
   "name": "python3"
  },
  "language_info": {
   "codemirror_mode": {
    "name": "ipython",
    "version": 3
   },
   "file_extension": ".py",
   "mimetype": "text/x-python",
   "name": "python",
   "nbconvert_exporter": "python",
   "pygments_lexer": "ipython3",
   "version": "3.9.19"
  }
 },
 "nbformat": 4,
 "nbformat_minor": 4
}
