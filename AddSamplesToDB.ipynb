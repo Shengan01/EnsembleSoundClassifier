{
 "cells": [
  {
   "cell_type": "code",
   "execution_count": null,
   "metadata": {},
   "outputs": [],
   "source": [
    "from modules.PostgresDBHandler import PostgresDBHandler\n",
    "import os\n",
    "from joblib import Parallel, delayed\n",
    "import librosa"
   ]
  },
  {
   "cell_type": "code",
   "execution_count": null,
   "metadata": {},
   "outputs": [],
   "source": [
    "def process_file(file_path, db_params):\n",
    "    try:\n",
    "        db = PostgresDBHandler(**db_params)\n",
    "        db.connect()\n",
    "\n",
    "        folder_name = os.path.basename(os.path.dirname(os.path.dirname(file_path)))\n",
    "        instrument_type = folder_name.split(\"_\")[0]\n",
    "        microphone_type = os.path.basename(os.path.dirname(file_path))\n",
    "        audio, sr = librosa.load(file_path, sr=None)\n",
    "\n",
    "        # Check if the instrument exists in the database\n",
    "        instrument_id = db.get_instrument_id(instrument_type)\n",
    "\n",
    "        # Insert the audio file data into the AudioFiles table\n",
    "        db.insert_audio_file(file_path, sr, len(audio), instrument_id)\n",
    "\n",
    "        db.close()\n",
    "\n",
    "        return {\n",
    "            \"instrument_type\": instrument_type,\n",
    "            \"microphone_type\": microphone_type,\n",
    "            \"original_file\": file_path,\n",
    "            \"sample_rate\": sr,\n",
    "        }\n",
    "    except Exception as e:\n",
    "        print(f\"Error processing {file_path}: {e}\")\n",
    "        return None"
   ]
  },
  {
   "cell_type": "code",
   "execution_count": null,
   "metadata": {},
   "outputs": [],
   "source": [
    "base_dir = \"./good-sounds\"\n",
    "dbParams = {\n",
    "    \"dbname\": \"mydatabase\",\n",
    "    \"user\": \"postgres\",\n",
    "    \"password\": \"password\",\n",
    "    \"host\": \"localhost\",\n",
    "    \"port\": \"5432\",\n",
    "}\n",
    "# max_samples = 50\n",
    "n_jobs = -1"
   ]
  },
  {
   "cell_type": "code",
   "execution_count": null,
   "metadata": {},
   "outputs": [],
   "source": [
    "classes = os.listdir(os.path.join(base_dir, \"sound_files\"))\n",
    "instrument_types = {className.split(\"_\")[0] for className in classes}"
   ]
  },
  {
   "cell_type": "code",
   "execution_count": null,
   "metadata": {},
   "outputs": [],
   "source": [
    "instrument_types"
   ]
  },
  {
   "cell_type": "code",
   "execution_count": null,
   "metadata": {},
   "outputs": [],
   "source": [
    "db = PostgresDBHandler(**dbParams)\n",
    "db.connect()\n",
    "for instrument in instrument_types:\n",
    "    if db.get_instrument_id(instrument) is None:\n",
    "        db.insert_instrument(instrument, 0)\n",
    "db.close()"
   ]
  },
  {
   "cell_type": "markdown",
   "metadata": {},
   "source": [
    "Load files"
   ]
  },
  {
   "cell_type": "code",
   "execution_count": null,
   "metadata": {},
   "outputs": [],
   "source": [
    "db = PostgresDBHandler(**dbParams) \n",
    "db.connect()\n",
    "audio_files = []\n",
    "for root, dirs, files in os.walk(base_dir):\n",
    "    for file in files:\n",
    "        if file.endswith(\".wav\") and db.check_audio_file_exists(os.path.join(root, file)) is False:\n",
    "            file_path = os.path.join(root, file)\n",
    "            audio_files.append(file_path)\n",
    "db.close()"
   ]
  },
  {
   "cell_type": "code",
   "execution_count": null,
   "metadata": {},
   "outputs": [],
   "source": [
    "print(f\"Processing {len(audio_files)} audio files\")"
   ]
  },
  {
   "cell_type": "code",
   "execution_count": null,
   "metadata": {
    "scrolled": true
   },
   "outputs": [],
   "source": [
    "Parallel(n_jobs=n_jobs)(\n",
    "    delayed(process_file)(file_path, dbParams)\n",
    "    for file_path in audio_files\n",
    ")"
   ]
  },
  {
   "cell_type": "code",
   "execution_count": null,
   "metadata": {},
   "outputs": [],
   "source": []
  }
 ],
 "metadata": {
  "kernelspec": {
   "display_name": "Python 3",
   "language": "python",
   "name": "python3"
  },
  "language_info": {
   "codemirror_mode": {
    "name": "ipython",
    "version": 3
   },
   "file_extension": ".py",
   "mimetype": "text/x-python",
   "name": "python",
   "nbconvert_exporter": "python",
   "pygments_lexer": "ipython3",
   "version": "3.12.11"
  }
 },
 "nbformat": 4,
 "nbformat_minor": 4
}
