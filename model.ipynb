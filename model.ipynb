{
 "cells": [
  {
   "cell_type": "code",
   "execution_count": null,
   "metadata": {},
   "outputs": [],
   "source": [
    "from datetime import datetime\n",
    "import os\n",
    "import json\n",
    "import tensorflow as tf\n",
    "import numpy as np\n",
    "import pandas as pd\n",
    "from keras.utils import to_categorical, Sequence\n",
    "from keras.models import Model\n",
    "from keras.layers import (\n",
    "    Input,\n",
    "    Conv2D,\n",
    "    MaxPooling2D,\n",
    "    Flatten,\n",
    "    Dense,\n",
    "    Dropout,\n",
    "    concatenate,\n",
    "    BatchNormalization,\n",
    ")\n",
    "from keras.callbacks import EarlyStopping\n",
    "from sklearn.preprocessing import LabelEncoder\n",
    "from sklearn.model_selection import train_test_split, KFold\n",
    "from sklearn.metrics import classification_report, confusion_matrix\n",
    "from modules.PostgresDBHandler import PostgresDBHandler"
   ]
  },
  {
   "cell_type": "code",
   "execution_count": null,
   "metadata": {},
   "outputs": [],
   "source": [
    "gpus = tf.config.experimental.list_physical_devices(\"GPU\")\n",
    "if gpus:\n",
    "    try:\n",
    "        for gpu in gpus:\n",
    "            tf.config.experimental.set_memory_growth(gpu, True)\n",
    "            print(\"Number of avaliable GPUs: \", len(gpus))\n",
    "    except RuntimeError as e:\n",
    "        print(e)"
   ]
  },
  {
   "cell_type": "code",
   "execution_count": null,
   "metadata": {},
   "outputs": [],
   "source": [
    "DB_PARAMS = {\n",
    "    \"dbname\": \"mydatabase\",\n",
    "    \"user\": \"postgres\",\n",
    "    \"password\": \"password\",\n",
    "    \"host\": \"localhost\",\n",
    "    \"port\": \"5432\",\n",
    "}\n",
    "EPOCHS = 100\n",
    "BATCH_SIZE = 128\n",
    "KFOLD_SPLITS = 5"
   ]
  },
  {
   "cell_type": "code",
   "execution_count": null,
   "metadata": {},
   "outputs": [],
   "source": [
    "dbConnect = PostgresDBHandler(**DB_PARAMS)\n",
    "dbConnect.connect()"
   ]
  },
  {
   "cell_type": "code",
   "execution_count": null,
   "metadata": {},
   "outputs": [],
   "source": [
    "instruments_mappings = dbConnect.get_mappings_instruments()"
   ]
  },
  {
   "cell_type": "code",
   "execution_count": null,
   "metadata": {},
   "outputs": [],
   "source": [
    "processedIDs = dbConnect.get_all_processed_ids()\n",
    "# processedIDs = processedIDs[50:120]\n",
    "\n",
    "processed_data = dbConnect.get_processed_fit_data(processedIDs)"
   ]
  },
  {
   "cell_type": "code",
   "execution_count": null,
   "metadata": {},
   "outputs": [],
   "source": [
    "mfcc_paths = [item[\"mfccPath\"] for item in processed_data]\n",
    "spectrogram_paths = [item[\"spectrogramPath\"] for item in processed_data]\n",
    "instrument_ids = [item[\"instrumentID\"] for item in processed_data]\n",
    "mappings = dbConnect.get_mappings_instruments().to_dict()['name']"
   ]
  },
  {
   "cell_type": "code",
   "execution_count": null,
   "metadata": {},
   "outputs": [],
   "source": [
    "processed_df = pd.DataFrame(\n",
    "    {\n",
    "        \"mfccPath\": mfcc_paths,\n",
    "        \"spectrogramPath\": spectrogram_paths,\n",
    "        \"instrumentID\": instrument_ids,\n",
    "    }\n",
    ")"
   ]
  },
  {
   "cell_type": "code",
   "execution_count": null,
   "metadata": {},
   "outputs": [],
   "source": [
    "dbConnect.close()"
   ]
  },
  {
   "cell_type": "code",
   "execution_count": null,
   "metadata": {},
   "outputs": [],
   "source": [
    "processed_df"
   ]
  },
  {
   "cell_type": "code",
   "execution_count": null,
   "metadata": {},
   "outputs": [],
   "source": [
    "class DataGenerator(Sequence):\n",
    "    def __init__(\n",
    "        self,\n",
    "        df,\n",
    "        fixed_length=128,\n",
    "        batch_size=32,\n",
    "        shuffle=True,\n",
    "    ):\n",
    "        self.df = df\n",
    "        self.fixed_length = fixed_length\n",
    "        self.batch_size = batch_size\n",
    "        self.shuffle = shuffle\n",
    "        self.label_encoder = LabelEncoder()\n",
    "        self.df.loc[:, \"instrumentID\"] = self.label_encoder.fit_transform(\n",
    "            self.df[\"instrumentID\"]\n",
    "        )\n",
    "        self.num_classes = len(self.label_encoder.classes_)\n",
    "        self.on_epoch_end()\n",
    "\n",
    "    def __len__(self):\n",
    "        return int(np.floor(len(self.df) / self.batch_size))\n",
    "\n",
    "    def __getitem__(self, index):\n",
    "        indices = self.indices[index * self.batch_size : (index + 1) * self.batch_size]\n",
    "        batch_df = self.df.iloc[indices]\n",
    "        X, y = self.__data_generation(batch_df)\n",
    "        return X, y\n",
    "\n",
    "    def on_epoch_end(self):\n",
    "        self.indices = np.arange(len(self.df))\n",
    "        if self.shuffle:\n",
    "            np.random.shuffle(self.indices)\n",
    "\n",
    "    def __data_generation(self, batch_df):\n",
    "        X_mels = []\n",
    "        X_mfccs = []\n",
    "        y = []\n",
    "\n",
    "        for idx, row in batch_df.iterrows():\n",
    "            mel_spectrogram = np.load(row[\"spectrogramPath\"])\n",
    "            mfccs = np.load(row[\"mfccPath\"])\n",
    "\n",
    "            X_mels.append(mel_spectrogram)\n",
    "            X_mfccs.append(mfccs)\n",
    "            y.append(row[\"instrumentID\"])\n",
    "\n",
    "        X_mels = np.expand_dims(np.array(X_mels), -1)\n",
    "        X_mfccs = np.expand_dims(np.array(X_mfccs), -1)\n",
    "        y = np.array(y)\n",
    "\n",
    "        return (\n",
    "            {\"mel_input\": X_mels, \"mfccs_input\": X_mfccs},\n",
    "            to_categorical(y, num_classes=self.num_classes),\n",
    "        )"
   ]
  },
  {
   "cell_type": "code",
   "execution_count": null,
   "metadata": {},
   "outputs": [],
   "source": [
    "def create_model(input_shape_mel, input_shape_mfccs, num_classes):    \n",
    "    # Mel spectrogram branch\n",
    "    input_mel = Input(shape=input_shape_mel, name=\"mel_input\")\n",
    "    x_mel = Conv2D(64, (3, 3), activation=\"relu\")(input_mel)\n",
    "    x_mel = MaxPooling2D((2, 2))(x_mel)\n",
    "    x_mel = Conv2D(128, (3, 3), activation=\"relu\")(x_mel)\n",
    "    x_mel = MaxPooling2D((2, 2))(x_mel)\n",
    "    x_mel = Conv2D(256, (3, 3), activation=\"relu\")(x_mel)\n",
    "    x_mel = MaxPooling2D((2, 2))(x_mel)\n",
    "    x_mel = Flatten()(x_mel)\n",
    "\n",
    "    # MFCC branch\n",
    "    input_mfccs = Input(shape=input_shape_mfccs, name=\"mfccs_input\")\n",
    "    x_mfccs = Conv2D(64, (3, 3), activation=\"relu\")(input_mfccs)\n",
    "    x_mfccs = MaxPooling2D((2, 2))(x_mfccs)\n",
    "    x_mfccs = Conv2D(128, (3, 3), activation=\"relu\")(x_mfccs)\n",
    "    x_mfccs = MaxPooling2D((2, 2))(x_mfccs)\n",
    "    x_mfccs = Flatten()(x_mfccs)\n",
    "\n",
    "    # Concatenate the outputs of both branches\n",
    "    concatenated = concatenate([x_mel, x_mfccs])\n",
    "    # Fully connected layers\n",
    "    x = Dense(64, activation=\"relu\")(concatenated)\n",
    "    x = Dropout(0.25)(x)\n",
    "    x = BatchNormalization()(x)\n",
    "    output = Dense(num_classes, activation=\"softmax\")(x)\n",
    "\n",
    "    model = Model(inputs=[input_mel, input_mfccs], outputs=output)\n",
    "    return model"
   ]
  },
  {
   "cell_type": "code",
   "execution_count": null,
   "metadata": {},
   "outputs": [],
   "source": [
    "input_shape_mel = (128, 128, 1)  \n",
    "input_shape_mfccs = (13, 128, 1)  \n",
    "num_classes = len(np.unique(processed_df[\"instrumentID\"]))"
   ]
  },
  {
   "cell_type": "code",
   "execution_count": null,
   "metadata": {},
   "outputs": [],
   "source": [
    "early_stopping = EarlyStopping(\n",
    "    monitor=\"val_loss\", patience=10, restore_best_weights=True\n",
    ")"
   ]
  },
  {
   "cell_type": "markdown",
   "metadata": {},
   "source": [
    "# Cross validation"
   ]
  },
  {
   "cell_type": "code",
   "execution_count": null,
   "metadata": {},
   "outputs": [],
   "source": [
    "accuracy_list = []\n",
    "loss_list = []\n",
    "classification_reports = []\n",
    "confusion_matrices = []\n",
    "history_list = []"
   ]
  },
  {
   "cell_type": "code",
   "execution_count": null,
   "metadata": {},
   "outputs": [],
   "source": [
    "kf = KFold(n_splits=KFOLD_SPLITS, shuffle=True)"
   ]
  },
  {
   "cell_type": "code",
   "execution_count": null,
   "metadata": {},
   "outputs": [],
   "source": [
    "for train_index, cross_index in kf.split(processed_df):\n",
    "\n",
    "    # Split the data\n",
    "    X_train, X_val = train_test_split(\n",
    "        processed_df.iloc[train_index], test_size=0.2, shuffle=True\n",
    "    )\n",
    "\n",
    "    # Create data generators\n",
    "    train_generator = DataGenerator(X_train, batch_size=350)\n",
    "    val_generator = DataGenerator(X_val, batch_size=350)\n",
    "    cross_generator = DataGenerator(processed_df.iloc[cross_index], batch_size=350, shuffle=False)\n",
    "\n",
    "    # Create and compile the model\n",
    "    model = create_model(input_shape_mel, input_shape_mfccs, num_classes)\n",
    "    \n",
    "    optimizer = tf.keras.optimizers.Adam(lr = 0.0005)\n",
    "    \n",
    "    model.compile(\n",
    "        optimizer= optimizer,\n",
    "        loss=\"categorical_crossentropy\",\n",
    "        metrics=[\"accuracy\"],\n",
    "    )\n",
    "\n",
    "    # Train the model\n",
    "    history = model.fit(\n",
    "        train_generator,\n",
    "        validation_data=val_generator,\n",
    "        epochs=EPOCHS,\n",
    "        callbacks=[early_stopping],\n",
    "    )\n",
    "    \n",
    "    history_list.append(history.history)\n",
    "\n",
    "    # Evaluate the model\n",
    "    loss, accuracy = model.evaluate(cross_generator)\n",
    "    accuracy_list.append(accuracy)\n",
    "    loss_list.append(loss)\n",
    "\n",
    "    # Predict using the model\n",
    "    y_pred = model.predict(cross_generator)\n",
    "    y_pred_classes = np.argmax(y_pred, axis=1)\n",
    "\n",
    "    # Extract true labels from the generator\n",
    "    y_true = []\n",
    "    for _, labels in cross_generator:\n",
    "        y_true.extend(np.argmax(labels, axis=1))\n",
    "    y_true = np.array(y_true)\n",
    "\n",
    "    # Generate classification report and confusion matrix\n",
    "    report = classification_report(y_true, y_pred_classes, output_dict=True)\n",
    "    classification_reports.append(report)\n",
    "\n",
    "    conf_matrix = confusion_matrix(y_true, y_pred_classes).tolist()\n",
    "    confusion_matrices.append(conf_matrix)"
   ]
  },
  {
   "cell_type": "markdown",
   "metadata": {},
   "source": [
    "# Save raports and model"
   ]
  },
  {
   "cell_type": "code",
   "execution_count": null,
   "metadata": {},
   "outputs": [],
   "source": [
    "try:\n",
    "    os.mkdir(\"models\")\n",
    "except FileExistsError:\n",
    "        print(\"Folder already exists\")\n",
    "except Exception:\n",
    "    print(\"Unknown error\")\n",
    "    \n",
    "model.save(\"models/instrument_classifier_model.h5\")\n"
   ]
  },
  {
   "cell_type": "markdown",
   "metadata": {},
   "source": [
    "## Create training version folder"
   ]
  },
  {
   "cell_type": "code",
   "execution_count": null,
   "metadata": {},
   "outputs": [],
   "source": [
    "date_part = datetime.now().date().__str__().replace('-', '_')\n",
    "last_version = os.listdir(path=\"models\")\n",
    "last_version = [name.rpartition(\"_v\")[-1] for name in last_version if date_part in name]\n",
    "if len(last_version):\n",
    "    last_version = int(sorted(last_version)[-1])\n",
    "else:\n",
    "    last_version = 0\n",
    "folder_name = f\"{date_part}_v{last_version+1}\""
   ]
  },
  {
   "cell_type": "code",
   "execution_count": null,
   "metadata": {},
   "outputs": [],
   "source": [
    "os.mkdir(os.path.join(\"models\", folder_name))"
   ]
  },
  {
   "cell_type": "markdown",
   "metadata": {},
   "source": [
    "## Store data"
   ]
  },
  {
   "cell_type": "code",
   "execution_count": null,
   "metadata": {},
   "outputs": [],
   "source": [
    "raport = {\n",
    "    \"accuracy_list\": accuracy_list,\n",
    "    \"loss_list\": loss_list,\n",
    "    \"classification_reports\": classification_reports,\n",
    "    \"confusion_matrices\": confusion_matrices,\n",
    "    \"histories\": history_list,\n",
    "    \"mappings\": mappings\n",
    "}"
   ]
  },
  {
   "cell_type": "code",
   "execution_count": null,
   "metadata": {},
   "outputs": [],
   "source": [
    "with open(os.path.join(\"models\", folder_name, \"raport.json\"), \"w\")as raportFile:\n",
    "    json.dump(raport, raportFile)"
   ]
  }
 ],
 "metadata": {
  "kernelspec": {
   "display_name": "Python 3",
   "language": "python",
   "name": "python3"
  },
  "language_info": {
   "codemirror_mode": {
    "name": "ipython",
    "version": 3
   },
   "file_extension": ".py",
   "mimetype": "text/x-python",
   "name": "python",
   "nbconvert_exporter": "python",
   "pygments_lexer": "ipython3",
   "version": "3.12.11"
  }
 },
 "nbformat": 4,
 "nbformat_minor": 4
}
