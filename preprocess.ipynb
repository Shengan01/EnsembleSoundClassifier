{
 "cells": [
  {
   "cell_type": "code",
   "execution_count": null,
   "metadata": {},
   "outputs": [],
   "source": [
    "import os\n",
    "import uuid\n",
    "import numpy as np\n",
    "import librosa\n",
    "import librosa.display\n",
    "from joblib import Parallel, delayed\n",
    "import matplotlib.pyplot as plt\n",
    "from modules.PostgresDBHandler import PostgresDBHandler"
   ]
  },
  {
   "cell_type": "code",
   "execution_count": null,
   "metadata": {},
   "outputs": [],
   "source": [
    "base_dir = \"./\"\n",
    "intermediate_dir = \"intermediate_results\"\n",
    "fixedLength = 128\n",
    "dbParams = {\n",
    "    \"dbname\": \"mydatabase\",\n",
    "    \"user\": \"postgres\",\n",
    "    \"password\": \"password\",\n",
    "    \"host\": \"localhost\",\n",
    "    \"port\": \"5432\",\n",
    "}"
   ]
  },
  {
   "cell_type": "code",
   "execution_count": null,
   "metadata": {},
   "outputs": [],
   "source": [
    "os.makedirs(os.path.join(intermediate_dir, \"melSpectrogram\"), exist_ok=True)\n",
    "os.makedirs(os.path.join(intermediate_dir, \"mfcc\"), exist_ok=True)"
   ]
  },
  {
   "cell_type": "markdown",
   "metadata": {},
   "source": [
    "# Augmentacja"
   ]
  },
  {
   "cell_type": "code",
   "execution_count": null,
   "metadata": {},
   "outputs": [],
   "source": [
    "def pad_or_truncate(array, fixed_length):\n",
    "    if array.shape[1] > fixed_length:\n",
    "        return array[:, :fixed_length]\n",
    "    elif array.shape[1] < fixed_length:\n",
    "        pad_width = fixed_length - array.shape[1]\n",
    "        return np.pad(array, ((0, 0), (0, pad_width)), mode=\"constant\")\n",
    "    else:\n",
    "        return array"
   ]
  },
  {
   "cell_type": "code",
   "execution_count": null,
   "metadata": {},
   "outputs": [],
   "source": [
    "def augment_audio(audio_data, sr):\n",
    "\n",
    "    # Time-stretching\n",
    "    stretched = librosa.effects.time_stretch(audio_data, rate=1.1)\n",
    "\n",
    "    # Pitch-shifting\n",
    "    pitched = librosa.effects.pitch_shift(audio_data, sr=sr, n_steps=2)\n",
    "\n",
    "    # Adding noise\n",
    "    noise = np.random.randn(len(audio_data))\n",
    "    audio_data_noisy = audio_data + 0.005 * noise\n",
    "\n",
    "    # Ensure all augmented data have the same dtype\n",
    "    audio_data_noisy = audio_data_noisy.astype(np.float32)\n",
    "    stretched = stretched.astype(np.float32)\n",
    "    pitched = pitched.astype(np.float32)\n",
    "    \n",
    "    augmented_data = {\n",
    "        \"time_stretch\": stretched,\n",
    "        \"pitch_shifting\": pitched,\n",
    "        \"noise\": audio_data_noisy,\n",
    "    }\n",
    "\n",
    "    return augmented_data"
   ]
  },
  {
   "cell_type": "code",
   "execution_count": null,
   "metadata": {},
   "outputs": [],
   "source": [
    "def preprocess_audio(audio_data, sr):\n",
    "    if audio_data.ndim > 1:\n",
    "        audio_data = librosa.to_mono(audio_data)\n",
    "\n",
    "    audio_data = librosa.util.normalize(audio_data)\n",
    "\n",
    "    mel_spectrogram = librosa.feature.melspectrogram(y=audio_data, sr=sr, n_mels=128)\n",
    "    mel_spectrogram_db = librosa.power_to_db(mel_spectrogram, ref=np.max)\n",
    "\n",
    "    mfccs = librosa.feature.mfcc(y=audio_data, sr=sr, n_mfcc=13)\n",
    "\n",
    "    return mel_spectrogram_db, mfccs"
   ]
  },
  {
   "cell_type": "code",
   "execution_count": null,
   "metadata": {},
   "outputs": [],
   "source": [
    "def process_file(audio_index, db_params):\n",
    "    db = PostgresDBHandler(**db_params)\n",
    "    db.connect()\n",
    "\n",
    "    db_data = db.get_audio_file(audio_index)\n",
    "    audio, _ = librosa.load(db_data['filePath'], sr=db_data[\"sampleRate\"])\n",
    "\n",
    "    # Preprocess original audio\n",
    "    mel_spectrogram, mfcc = preprocess_audio(audio, db_data[\"sampleRate\"])\n",
    "\n",
    "    unique_id = uuid.uuid4()\n",
    "    mel_spectrogram_path = (\n",
    "        os.path.join(intermediate_dir, \"melSpectrogram\", f\"{unique_id}_mel.npy\")\n",
    "    )\n",
    "    mfcc_path = os.path.join(intermediate_dir, \"mfcc\", f\"{unique_id}_mfcc.npy\")\n",
    "\n",
    "\n",
    "    np.save(mel_spectrogram_path, pad_or_truncate(mel_spectrogram, fixedLength))\n",
    "    np.save(mfcc_path, pad_or_truncate(mfcc, fixedLength))\n",
    "\n",
    "    db.insert_processed_audio(\n",
    "        db_data[\"instrumentID\"],\n",
    "        db_data[\"audioID\"],\n",
    "        fixedLength,\n",
    "        mel_spectrogram_path,\n",
    "        mfcc_path,\n",
    "        \"original\",\n",
    "    )\n",
    "\n",
    "    # Apply data augmentation\n",
    "    augmented_audios = augment_audio(audio, db_data[\"sampleRate\"])\n",
    "    for key in augmented_audios:\n",
    "        mel_spectrogram, mfcc = preprocess_audio(\n",
    "            augmented_audios[key], db_data[\"sampleRate\"]\n",
    "        )\n",
    "\n",
    "        unique_id = uuid.uuid4()\n",
    "        mel_spectrogram_path = (\n",
    "            os.path.join(intermediate_dir, \"melSpectrogram\", f\"{unique_id}_mel.npy\")\n",
    "        )\n",
    "        mfcc_path = os.path.join(intermediate_dir, \"mfcc\", f\"{unique_id}_mfcc.npy\")\n",
    "\n",
    "        np.save(mel_spectrogram_path, pad_or_truncate(mel_spectrogram, fixedLength))\n",
    "        np.save(mfcc_path, pad_or_truncate(mfcc, fixedLength))\n",
    "\n",
    "        db.insert_processed_audio(\n",
    "            db_data[\"instrumentID\"],\n",
    "            db_data[\"audioID\"],\n",
    "            fixedLength,\n",
    "            mel_spectrogram_path,\n",
    "            mfcc_path,\n",
    "            key,\n",
    "        )\n",
    "    db.close()"
   ]
  },
  {
   "cell_type": "code",
   "execution_count": null,
   "metadata": {},
   "outputs": [],
   "source": [
    "def apply_preprocessing_with_augmentation(audios_ids, db_params, n_jobs=-1):\n",
    "    Parallel(n_jobs=n_jobs)(\n",
    "        delayed(process_file)(audio_index, db_params) for audio_index in audios_ids\n",
    "    )"
   ]
  },
  {
   "cell_type": "code",
   "execution_count": null,
   "metadata": {},
   "outputs": [],
   "source": [
    "db = PostgresDBHandler(**dbParams)\n",
    "db.connect()\n",
    "audio_ids = db.get_all_audio_ids()\n",
    "print(len(audio_ids))\n",
    "db.close()"
   ]
  },
  {
   "cell_type": "code",
   "execution_count": null,
   "metadata": {},
   "outputs": [],
   "source": [
    "# audio_ids = audio_ids[:10]"
   ]
  },
  {
   "cell_type": "code",
   "execution_count": null,
   "metadata": {},
   "outputs": [],
   "source": [
    "apply_preprocessing_with_augmentation(audio_ids, dbParams)"
   ]
  },
  {
   "cell_type": "code",
   "execution_count": null,
   "metadata": {},
   "outputs": [],
   "source": [
    "def plot_spectrogram(spectrogram, sr=22050):\n",
    "    # Plot the spectrogram\n",
    "    plt.figure(figsize=(10, 4))\n",
    "    librosa.display.specshow(spectrogram, sr=sr, x_axis=\"time\", y_axis=\"mel\")\n",
    "    plt.colorbar(format=\"%+2.0f dB\")\n",
    "    plt.title(\"Mel Spectrogram\")\n",
    "    plt.tight_layout()\n",
    "    plt.show()"
   ]
  },
  {
   "cell_type": "code",
   "execution_count": null,
   "metadata": {},
   "outputs": [],
   "source": [
    "def plot_mfcc(mfcc):\n",
    "    # Plot the MFCC\n",
    "    plt.figure(figsize=(10, 4))\n",
    "    librosa.display.specshow(mfcc, x_axis=\"time\")\n",
    "    plt.colorbar()\n",
    "    plt.title(\"MFCC\")\n",
    "    plt.tight_layout()\n",
    "    plt.show()"
   ]
  },
  {
   "cell_type": "code",
   "execution_count": null,
   "metadata": {},
   "outputs": [],
   "source": [
    "db = PostgresDBHandler(**dbParams)\n",
    "db.connect()\n",
    "processed = db.get_processed_audio(100)\n",
    "db.close()"
   ]
  },
  {
   "cell_type": "code",
   "execution_count": null,
   "metadata": {},
   "outputs": [],
   "source": [
    "processed"
   ]
  },
  {
   "cell_type": "code",
   "execution_count": null,
   "metadata": {},
   "outputs": [],
   "source": [
    "plot_spectrogram(np.load(processed[\"spectrogramPath\"]))"
   ]
  },
  {
   "cell_type": "code",
   "execution_count": null,
   "metadata": {},
   "outputs": [],
   "source": [
    "plot_mfcc(np.load(processed[\"mfccPath\"]))"
   ]
  }
 ],
 "metadata": {
  "kernelspec": {
   "display_name": ".venv",
   "language": "python",
   "name": "python3"
  },
  "language_info": {
   "codemirror_mode": {
    "name": "ipython",
    "version": 3
   },
   "file_extension": ".py",
   "mimetype": "text/x-python",
   "name": "python",
   "nbconvert_exporter": "python",
   "pygments_lexer": "ipython3",
   "version": "3.12.11"
  }
 },
 "nbformat": 4,
 "nbformat_minor": 4
}
